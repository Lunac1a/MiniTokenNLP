{
 "cells": [
  {
   "cell_type": "markdown",
   "id": "9aa3868345254626",
   "metadata": {},
   "source": [
    "# Trainable Embedding + MLP Classifier\n",
    "\n",
    "This notebook fine-tunes the embedding representations by training\n",
    "a simple neural network end-to-end. The embedding layer is initialized\n",
    "randomly but updated through gradient descent, allowing the model to\n",
    "capture semantic relationships such as *\"not bad\"* being positive."
   ]
  },
  {
   "cell_type": "markdown",
   "id": "bd3a53d17c4336f4",
   "metadata": {},
   "source": [
    "## 1. Import Libraries and Load Data"
   ]
  },
  {
   "cell_type": "code",
   "execution_count": 2,
   "id": "initial_id",
   "metadata": {
    "ExecuteTime": {
     "end_time": "2025-10-21T03:41:12.853457Z",
     "start_time": "2025-10-21T03:41:12.735780Z"
    }
   },
   "outputs": [
    {
     "name": "stdout",
     "output_type": "stream",
     "text": [
      "Data loaded: (1600, 200) (400, 200)\n",
      "Estimated vocab size: 19778\n"
     ]
    }
   ],
   "source": [
    "import numpy as np\n",
    "import pandas as pd\n",
    "from tensorflow.keras import layers, models\n",
    "from sklearn.metrics import classification_report, accuracy_score, f1_score\n",
    "import matplotlib.pyplot as plt\n",
    "\n",
    "# Load preprocessed token sequences (IDs)\n",
    "# Ensure these come from your Tokenizer notebook\n",
    "train_df = pd.read_csv(\"dataset/train_embeddings.csv\")\n",
    "test_df  = pd.read_csv(\"dataset/test_embeddings.csv\")\n",
    "\n",
    "X_train = train_df.drop(columns=['label']).values\n",
    "y_train = train_df['label'].values\n",
    "X_test  = test_df.drop(columns=['label']).values\n",
    "y_test  = test_df['label'].values\n",
    "\n",
    "vocab_size = int(max(X_train.max(), X_test.max())) + 1  # estimate vocab size\n",
    "print(\"Data loaded:\", X_train.shape, X_test.shape)\n",
    "print(\"Estimated vocab size:\", vocab_size)"
   ]
  },
  {
   "cell_type": "markdown",
   "id": "7293bf0574b3f722",
   "metadata": {},
   "source": [
    "## 2. Define a Trainable Embedding + MLP Model"
   ]
  },
  {
   "cell_type": "code",
   "execution_count": 3,
   "id": "6f68462630022c15",
   "metadata": {
    "ExecuteTime": {
     "end_time": "2025-10-21T03:41:12.880881Z",
     "start_time": "2025-10-21T03:41:12.861167Z"
    }
   },
   "source": [
    "from tensorflow.keras import layers, models\n",
    "\n",
    "model = models.Sequential([\n",
    "    layers.Embedding(\n",
    "        input_dim=vocab_size,\n",
    "        output_dim=100,\n",
    "        mask_zero=True\n",
    "    ),\n",
    "\n",
    "    layers.Conv1D(\n",
    "        filters=128,\n",
    "        kernel_size=3,\n",
    "        activation='relu',\n",
    "        padding='same'\n",
    "    ),\n",
    "\n",
    "    layers.GlobalAveragePooling1D(),\n",
    "\n",
    "    layers.Dense(128, activation='relu'),\n",
    "    layers.Dropout(0.4),\n",
    "\n",
    "    layers.Dense(1, activation='sigmoid')\n",
    "])\n",
    "\n",
    "model.compile(\n",
    "    optimizer='adam',\n",
    "    loss='binary_crossentropy',\n",
    "    metrics=['accuracy']\n",
    ")\n",
    "\n",
    "model.summary()"
   ],
   "outputs": [
    {
     "data": {
      "text/plain": [
       "\u001B[1mModel: \"sequential_4\"\u001B[0m\n"
      ],
      "text/html": [
       "<pre style=\"white-space:pre;overflow-x:auto;line-height:normal;font-family:Menlo,'DejaVu Sans Mono',consolas,'Courier New',monospace\"><span style=\"font-weight: bold\">Model: \"sequential\"</span>\n",
       "</pre>\n"
      ]
     },
     "metadata": {},
     "output_type": "display_data"
    },
    {
     "data": {
      "text/plain": [
       "┏━━━━━━━━━━━━━━━━━━━━━━━━━━━━━━━━━┳━━━━━━━━━━━━━━━━━━━━━━━━┳━━━━━━━━━━━━━━━┓\n",
       "┃\u001B[1m \u001B[0m\u001B[1mLayer (type)                   \u001B[0m\u001B[1m \u001B[0m┃\u001B[1m \u001B[0m\u001B[1mOutput Shape          \u001B[0m\u001B[1m \u001B[0m┃\u001B[1m \u001B[0m\u001B[1m      Param #\u001B[0m\u001B[1m \u001B[0m┃\n",
       "┡━━━━━━━━━━━━━━━━━━━━━━━━━━━━━━━━━╇━━━━━━━━━━━━━━━━━━━━━━━━╇━━━━━━━━━━━━━━━┩\n",
       "│ embedding_4 (\u001B[38;5;33mEmbedding\u001B[0m)         │ ?                      │   \u001B[38;5;34m0\u001B[0m (unbuilt) │\n",
       "├─────────────────────────────────┼────────────────────────┼───────────────┤\n",
       "│ conv1d_1 (\u001B[38;5;33mConv1D\u001B[0m)               │ ?                      │   \u001B[38;5;34m0\u001B[0m (unbuilt) │\n",
       "├─────────────────────────────────┼────────────────────────┼───────────────┤\n",
       "│ global_max_pooling1d_1          │ ?                      │             \u001B[38;5;34m0\u001B[0m │\n",
       "│ (\u001B[38;5;33mGlobalMaxPooling1D\u001B[0m)            │                        │               │\n",
       "├─────────────────────────────────┼────────────────────────┼───────────────┤\n",
       "│ dense_8 (\u001B[38;5;33mDense\u001B[0m)                 │ ?                      │   \u001B[38;5;34m0\u001B[0m (unbuilt) │\n",
       "├─────────────────────────────────┼────────────────────────┼───────────────┤\n",
       "│ dropout_4 (\u001B[38;5;33mDropout\u001B[0m)             │ ?                      │             \u001B[38;5;34m0\u001B[0m │\n",
       "├─────────────────────────────────┼────────────────────────┼───────────────┤\n",
       "│ dense_9 (\u001B[38;5;33mDense\u001B[0m)                 │ ?                      │   \u001B[38;5;34m0\u001B[0m (unbuilt) │\n",
       "└─────────────────────────────────┴────────────────────────┴───────────────┘\n"
      ],
      "text/html": [
       "<pre style=\"white-space:pre;overflow-x:auto;line-height:normal;font-family:Menlo,'DejaVu Sans Mono',consolas,'Courier New',monospace\">┏━━━━━━━━━━━━━━━━━━━━━━━━━━━━━━━━━┳━━━━━━━━━━━━━━━━━━━━━━━━┳━━━━━━━━━━━━━━━┓\n",
       "┃<span style=\"font-weight: bold\"> Layer (type)                    </span>┃<span style=\"font-weight: bold\"> Output Shape           </span>┃<span style=\"font-weight: bold\">       Param # </span>┃\n",
       "┡━━━━━━━━━━━━━━━━━━━━━━━━━━━━━━━━━╇━━━━━━━━━━━━━━━━━━━━━━━━╇━━━━━━━━━━━━━━━┩\n",
       "│ embedding (<span style=\"color: #0087ff; text-decoration-color: #0087ff\">Embedding</span>)           │ ?                      │   <span style=\"color: #00af00; text-decoration-color: #00af00\">0</span> (unbuilt) │\n",
       "├─────────────────────────────────┼────────────────────────┼───────────────┤\n",
       "│ conv1d (<span style=\"color: #0087ff; text-decoration-color: #0087ff\">Conv1D</span>)                 │ ?                      │   <span style=\"color: #00af00; text-decoration-color: #00af00\">0</span> (unbuilt) │\n",
       "├─────────────────────────────────┼────────────────────────┼───────────────┤\n",
       "│ global_average_pooling1d        │ ?                      │             <span style=\"color: #00af00; text-decoration-color: #00af00\">0</span> │\n",
       "│ (<span style=\"color: #0087ff; text-decoration-color: #0087ff\">GlobalAveragePooling1D</span>)        │                        │               │\n",
       "├─────────────────────────────────┼────────────────────────┼───────────────┤\n",
       "│ dense (<span style=\"color: #0087ff; text-decoration-color: #0087ff\">Dense</span>)                   │ ?                      │   <span style=\"color: #00af00; text-decoration-color: #00af00\">0</span> (unbuilt) │\n",
       "├─────────────────────────────────┼────────────────────────┼───────────────┤\n",
       "│ dropout (<span style=\"color: #0087ff; text-decoration-color: #0087ff\">Dropout</span>)               │ ?                      │             <span style=\"color: #00af00; text-decoration-color: #00af00\">0</span> │\n",
       "├─────────────────────────────────┼────────────────────────┼───────────────┤\n",
       "│ dense_1 (<span style=\"color: #0087ff; text-decoration-color: #0087ff\">Dense</span>)                 │ ?                      │   <span style=\"color: #00af00; text-decoration-color: #00af00\">0</span> (unbuilt) │\n",
       "└─────────────────────────────────┴────────────────────────┴───────────────┘\n",
       "</pre>\n"
      ]
     },
     "metadata": {},
     "output_type": "display_data"
    },
    {
     "data": {
      "text/html": [
       "<pre style=\"white-space:pre;overflow-x:auto;line-height:normal;font-family:Menlo,'DejaVu Sans Mono',consolas,'Courier New',monospace\"><span style=\"font-weight: bold\"> Total params: </span><span style=\"color: #00af00; text-decoration-color: #00af00\">0</span> (0.00 B)\n",
       "</pre>\n"
      ],
      "text/plain": [
       "\u001B[1m Total params: \u001B[0m\u001B[38;5;34m0\u001B[0m (0.00 B)\n"
      ]
     },
     "metadata": {},
     "output_type": "display_data"
    },
    {
     "data": {
      "text/html": [
       "<pre style=\"white-space:pre;overflow-x:auto;line-height:normal;font-family:Menlo,'DejaVu Sans Mono',consolas,'Courier New',monospace\"><span style=\"font-weight: bold\"> Trainable params: </span><span style=\"color: #00af00; text-decoration-color: #00af00\">0</span> (0.00 B)\n",
       "</pre>\n"
      ],
      "text/plain": [
       "\u001B[1m Trainable params: \u001B[0m\u001B[38;5;34m0\u001B[0m (0.00 B)\n"
      ]
     },
     "metadata": {},
     "output_type": "display_data"
    },
    {
     "data": {
      "text/html": [
       "<pre style=\"white-space:pre;overflow-x:auto;line-height:normal;font-family:Menlo,'DejaVu Sans Mono',consolas,'Courier New',monospace\"><span style=\"font-weight: bold\"> Non-trainable params: </span><span style=\"color: #00af00; text-decoration-color: #00af00\">0</span> (0.00 B)\n",
       "</pre>\n"
      ],
      "text/plain": [
       "\u001B[1m Non-trainable params: \u001B[0m\u001B[38;5;34m0\u001B[0m (0.00 B)\n"
      ]
     },
     "metadata": {},
     "output_type": "display_data"
    }
   ]
  },
  {
   "cell_type": "markdown",
   "id": "802aa0cb9468c615",
   "metadata": {},
   "source": [
    "## 3. Train the Model"
   ]
  },
  {
   "cell_type": "code",
   "execution_count": 4,
   "id": "1412969fcbab8fed",
   "metadata": {
    "ExecuteTime": {
     "end_time": "2025-10-21T03:41:16.444578Z",
     "start_time": "2025-10-21T03:41:12.890201Z"
    }
   },
   "outputs": [
    {
     "name": "stdout",
     "output_type": "stream",
     "text": [
      "Epoch 1/10\n"
     ]
    },
    {
     "name": "stderr",
     "output_type": "stream",
     "text": [
      "/Users/luna/PycharmProjects/Tokenizer/.venv/lib/python3.11/site-packages/keras/src/layers/layer.py:970: UserWarning: Layer 'conv1d' (of type Conv1D) was passed an input with a mask attached to it. However, this layer does not support masking and will therefore destroy the mask information. Downstream layers will not see the mask.\n",
      "  warnings.warn(\n"
     ]
    },
    {
     "name": "stdout",
     "output_type": "stream",
     "text": [
      "\u001B[1m23/23\u001B[0m \u001B[32m━━━━━━━━━━━━━━━━━━━━\u001B[0m\u001B[37m\u001B[0m \u001B[1m1s\u001B[0m 15ms/step - accuracy: 0.5236 - loss: 0.6920 - val_accuracy: 0.5063 - val_loss: 0.6913\n",
      "Epoch 2/10\n",
      "\u001B[1m23/23\u001B[0m \u001B[32m━━━━━━━━━━━━━━━━━━━━\u001B[0m\u001B[37m\u001B[0m \u001B[1m0s\u001B[0m 13ms/step - accuracy: 0.7660 - loss: 0.6656 - val_accuracy: 0.7125 - val_loss: 0.6489\n",
      "Epoch 3/10\n",
      "\u001B[1m23/23\u001B[0m \u001B[32m━━━━━━━━━━━━━━━━━━━━\u001B[0m\u001B[37m\u001B[0m \u001B[1m0s\u001B[0m 13ms/step - accuracy: 0.9215 - loss: 0.4113 - val_accuracy: 0.7625 - val_loss: 0.4765\n",
      "Epoch 4/10\n",
      "\u001B[1m23/23\u001B[0m \u001B[32m━━━━━━━━━━━━━━━━━━━━\u001B[0m\u001B[37m\u001B[0m \u001B[1m0s\u001B[0m 13ms/step - accuracy: 0.9840 - loss: 0.0773 - val_accuracy: 0.7937 - val_loss: 0.4715\n",
      "Epoch 5/10\n",
      "\u001B[1m23/23\u001B[0m \u001B[32m━━━━━━━━━━━━━━━━━━━━\u001B[0m\u001B[37m\u001B[0m \u001B[1m0s\u001B[0m 13ms/step - accuracy: 1.0000 - loss: 0.0094 - val_accuracy: 0.7937 - val_loss: 0.5229\n",
      "Epoch 6/10\n",
      "\u001B[1m23/23\u001B[0m \u001B[32m━━━━━━━━━━━━━━━━━━━━\u001B[0m\u001B[37m\u001B[0m \u001B[1m0s\u001B[0m 13ms/step - accuracy: 1.0000 - loss: 0.0033 - val_accuracy: 0.7688 - val_loss: 0.5367\n",
      "Epoch 7/10\n",
      "\u001B[1m23/23\u001B[0m \u001B[32m━━━━━━━━━━━━━━━━━━━━\u001B[0m\u001B[37m\u001B[0m \u001B[1m0s\u001B[0m 13ms/step - accuracy: 1.0000 - loss: 0.0021 - val_accuracy: 0.7625 - val_loss: 0.5542\n",
      "Epoch 8/10\n",
      "\u001B[1m23/23\u001B[0m \u001B[32m━━━━━━━━━━━━━━━━━━━━\u001B[0m\u001B[37m\u001B[0m \u001B[1m0s\u001B[0m 13ms/step - accuracy: 1.0000 - loss: 0.0016 - val_accuracy: 0.7875 - val_loss: 0.5640\n",
      "Epoch 9/10\n",
      "\u001B[1m23/23\u001B[0m \u001B[32m━━━━━━━━━━━━━━━━━━━━\u001B[0m\u001B[37m\u001B[0m \u001B[1m0s\u001B[0m 13ms/step - accuracy: 1.0000 - loss: 0.0012 - val_accuracy: 0.7750 - val_loss: 0.5803\n",
      "Epoch 10/10\n",
      "\u001B[1m23/23\u001B[0m \u001B[32m━━━━━━━━━━━━━━━━━━━━\u001B[0m\u001B[37m\u001B[0m \u001B[1m0s\u001B[0m 13ms/step - accuracy: 1.0000 - loss: 9.2971e-04 - val_accuracy: 0.7750 - val_loss: 0.5913\n"
     ]
    }
   ],
   "source": [
    "history = model.fit(\n",
    "    X_train, y_train,\n",
    "    validation_split=0.1,\n",
    "    epochs=10,\n",
    "    batch_size=64,\n",
    "    verbose=1\n",
    ")"
   ]
  },
  {
   "cell_type": "markdown",
   "id": "b2a60cc2beae77b6",
   "metadata": {},
   "source": [
    "## 4. Evaluate Model Performance"
   ]
  },
  {
   "cell_type": "code",
   "execution_count": 5,
   "id": "b0433cff89f0759f",
   "metadata": {
    "ExecuteTime": {
     "end_time": "2025-10-21T03:41:16.537789Z",
     "start_time": "2025-10-21T03:41:16.458587Z"
    }
   },
   "outputs": [
    {
     "name": "stdout",
     "output_type": "stream",
     "text": [
      "\u001B[1m13/13\u001B[0m \u001B[32m━━━━━━━━━━━━━━━━━━━━\u001B[0m\u001B[37m\u001B[0m \u001B[1m0s\u001B[0m 3ms/step \n",
      "Accuracy: 0.7675\n",
      "F1 Score: 0.7669\n",
      "\n",
      "Classification Report:\n",
      "               precision    recall  f1-score   support\n",
      "\n",
      "           0       0.77      0.77      0.77       200\n",
      "           1       0.77      0.77      0.77       200\n",
      "\n",
      "    accuracy                           0.77       400\n",
      "   macro avg       0.77      0.77      0.77       400\n",
      "weighted avg       0.77      0.77      0.77       400\n",
      "\n"
     ]
    },
    {
     "name": "stderr",
     "output_type": "stream",
     "text": [
      "/Users/luna/PycharmProjects/Tokenizer/.venv/lib/python3.11/site-packages/keras/src/layers/layer.py:970: UserWarning: Layer 'conv1d' (of type Conv1D) was passed an input with a mask attached to it. However, this layer does not support masking and will therefore destroy the mask information. Downstream layers will not see the mask.\n",
      "  warnings.warn(\n"
     ]
    }
   ],
   "source": [
    "y_pred = (model.predict(X_test) > 0.5).astype(\"int32\").flatten()\n",
    "acc = accuracy_score(y_test, y_pred)\n",
    "f1 = f1_score(y_test, y_pred)\n",
    "\n",
    "print(f\"Accuracy: {acc:.4f}\")\n",
    "print(f\"F1 Score: {f1:.4f}\")\n",
    "print(\"\\nClassification Report:\\n\", classification_report(y_test, y_pred))"
   ]
  },
  {
   "cell_type": "markdown",
   "id": "d112f80de773682",
   "metadata": {},
   "source": [
    "## 5. Visualize Training Progress"
   ]
  },
  {
   "cell_type": "code",
   "execution_count": 6,
   "id": "65060a788fbf7896",
   "metadata": {
    "ExecuteTime": {
     "end_time": "2025-10-21T03:41:16.625747Z",
     "start_time": "2025-10-21T03:41:16.545870Z"
    }
   },
   "outputs": [
    {
     "data": {
      "image/png": "[encoded data removed]",
      "text/plain": [
       "<Figure size 640x480 with 1 Axes>"
      ]
     },
     "metadata": {},
     "output_type": "display_data"
    },
    {
     "data": {
      "image/png": "[encoded data removed]",
      "text/plain": [
       "<Figure size 640x480 with 1 Axes>"
      ]
     },
     "metadata": {},
     "output_type": "display_data"
    }
   ],
   "source": [
    "plt.plot(history.history['accuracy'], label='Train Acc')\n",
    "plt.plot(history.history['val_accuracy'], label='Val Acc')\n",
    "plt.title(\"Training Accuracy\")\n",
    "plt.xlabel(\"Epoch\")\n",
    "plt.ylabel(\"Accuracy\")\n",
    "plt.legend()\n",
    "plt.show()\n",
    "\n",
    "plt.plot(history.history['loss'], label='Train Loss')\n",
    "plt.plot(history.history['val_loss'], label='Val Loss')\n",
    "plt.title(\"Training Loss\")\n",
    "plt.xlabel(\"Epoch\")\n",
    "plt.ylabel(\"Loss\")\n",
    "plt.legend()\n",
    "plt.show()"
   ]
  },
  {
   "cell_type": "markdown",
   "source": "## 6. User Interface",
   "id": "bac9d1e3edf799b8",
   "metadata": {}
  },
  {
   "cell_type": "code",
   "execution_count": 9,
   "id": "e3aa068a989e507d",
   "metadata": {
    "ExecuteTime": {
     "end_time": "2025-10-21T03:42:01.996464Z",
     "start_time": "2025-10-21T03:42:01.984468Z"
    }
   },
   "outputs": [
    {
     "name": "stdout",
     "output_type": "stream",
     "text": [
      "Loaded tokenizer vocabulary with 19779 tokens.\n"
     ]
    }
   ],
   "source": [
    "import json\n",
    "from pathlib import Path\n",
    "import numpy as np\n",
    "\n",
    "# Load tokenizer vocabulary\n",
    "TOKENIZER_JSON = Path(\"artifacts/tokenizer_word/tokenizer.json\")\n",
    "\n",
    "if TOKENIZER_JSON.exists():\n",
    "    meta = json.loads(TOKENIZER_JSON.read_text())\n",
    "    id2word = meta.get(\"id2word\", [])\n",
    "    word2id = {w: i for i, w in enumerate(id2word)}\n",
    "    print(f\"Loaded tokenizer vocabulary with {len(word2id)} tokens.\")\n",
    "else:\n",
    "    raise FileNotFoundError(\"tokenizer.json not found. Please export it from your tokenizer notebook first.\")\n",
    "\n",
    "# Define a tokenizer-like helper\n",
    "class MyTokenizer:\n",
    "    def __init__(self, word2id):\n",
    "        self.word2id = word2id\n",
    "\n",
    "tokenizer = MyTokenizer(word2id)\n",
    "\n",
    "\n",
    "# Helper function for prediction\n",
    "def predict_sentence(sentence, tokenizer, model, max_len=200):\n",
    "    \"\"\"\n",
    "    Convert raw text → token IDs → padded sequence → model prediction.\n",
    "    \"\"\"\n",
    "    tokens = sentence.lower().split()\n",
    "    ids = [tokenizer.word2id.get(w, 1) for w in tokens]\n",
    "    if len(ids) < max_len:\n",
    "        ids += [0] * (max_len - len(ids))\n",
    "    else:\n",
    "        ids = ids[:max_len]\n",
    "\n",
    "    arr = np.array(ids).reshape(1, -1)\n",
    "    prob = model.predict(arr, verbose=0)[0][0]\n",
    "    label = \"positive\" if prob >= 0.4 else \"negative\"\n",
    "    return label, prob"
   ]
  },
  {
   "cell_type": "code",
   "execution_count": 12,
   "id": "1053ffd6eb5d086e",
   "metadata": {
    "ExecuteTime": {
     "end_time": "2025-10-21T03:43:55.534694Z",
     "start_time": "2025-10-21T03:43:33.806527Z"
    }
   },
   "source": [
    "print(\"\\nMiniTokenNLP Sentiment Classifier Demo\")\n",
    "print(\"Type a sentence below and press Enter to see its sentiment prediction.\")\n",
    "print(\"Type 'exit' to quit.\\n\")\n",
    "\n",
    "while True:\n",
    "    sentence = input(\"Enter a sentence: \").strip()\n",
    "    if sentence.lower() in [\"exit\", \"quit\", \"q\"]:\n",
    "        print(\"\\nExiting MiniTokenNLP demo.\")\n",
    "        break\n",
    "    if not sentence:\n",
    "        continue\n",
    "\n",
    "    label, prob = predict_sentence(sentence, tokenizer, model)\n",
    "    print(f\"Sentence:{sentence}\\nPrediction: {label.upper()} ({prob:.2f} confidence)\\n\")"
   ],
   "outputs": [
    {
     "name": "stdout",
     "output_type": "stream",
     "text": [
      "\n",
      "MiniTokenNLP Sentiment Classifier Demo\n",
      "Type a sentence below and press Enter to see its sentiment prediction.\n",
      "Type 'exit' to quit.\n",
      "\n",
      "Sentence:i really love this movie\n",
      "Prediction: POSITIVE (0.49 confidence)\n",
      "\n",
      "Sentence:it was a masterpiece, every moment was amazing\n",
      "Prediction: POSITIVE (0.46 confidence)\n",
      "\n",
      "Sentence:this movie was awful\n",
      "Prediction: NEGATIVE (0.38 confidence)\n",
      "\n",
      "Sentence:the story was boring and predictable\n",
      "Prediction: NEGATIVE (0.23 confidence)\n",
      "\n",
      "\n",
      "Exiting MiniTokenNLP demo.\n"
     ]
    }
   ]
  }
 ],
 "metadata": {
  "kernelspec": {
   "display_name": "Python 3",
   "language": "python",
   "name": "python3"
  },
  "language_info": {
   "codemirror_mode": {
    "name": "ipython",
    "version": 3
   },
   "file_extension": ".py",
   "mimetype": "text/x-python",
   "name": "python",
   "nbconvert_exporter": "python",
   "pygments_lexer": "ipython3",
   "version": "3.13.7"
  }
 },
 "nbformat": 4,
 "nbformat_minor": 5
}
